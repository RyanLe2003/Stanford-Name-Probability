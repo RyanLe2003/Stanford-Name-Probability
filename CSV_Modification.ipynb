{
  "nbformat": 4,
  "nbformat_minor": 0,
  "metadata": {
    "colab": {
      "provenance": [],
      "authorship_tag": "ABX9TyOCzZqucTpvhmF+sTR9y3Qu",
      "include_colab_link": true
    },
    "kernelspec": {
      "name": "python3",
      "display_name": "Python 3"
    },
    "language_info": {
      "name": "python"
    }
  },
  "cells": [
    {
      "cell_type": "markdown",
      "metadata": {
        "id": "view-in-github",
        "colab_type": "text"
      },
      "source": [
        "<a href=\"https://colab.research.google.com/github/RyanLe2003/Stanford-Name-Probability/blob/main/CSV_Modification.ipynb\" target=\"_parent\"><img src=\"https://colab.research.google.com/assets/colab-badge.svg\" alt=\"Open In Colab\"/></a>"
      ]
    },
    {
      "cell_type": "code",
      "execution_count": null,
      "metadata": {
        "id": "VEH8UHaCEx1T"
      },
      "outputs": [],
      "source": [
        "import pandas as pd\n",
        "df_baby_names = pd.read_csv(\"babyNamesUSYOB-full copy.csv\")\n",
        "\n",
        "years_to_be_considered = [2000, 2001, 2002, 2003, 2004]\n",
        "\n",
        "df_babies_filtered_year = df_baby_names[df_baby_names[\"YearOfBirth\"].isin(years_to_be_considered)]\n",
        "\n",
        "df_babies_filtered_year.to_csv(\"babyNamesUSYOB-full.csv\", index = False)"
      ]
    }
  ]
}